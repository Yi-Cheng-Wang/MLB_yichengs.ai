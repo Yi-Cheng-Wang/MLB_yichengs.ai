{
  "nbformat": 4,
  "nbformat_minor": 0,
  "metadata": {
    "colab": {
      "provenance": [],
      "authorship_tag": "ABX9TyPDXpCdlHjErk+3vayhmAcg",
      "include_colab_link": true
    },
    "kernelspec": {
      "name": "python3",
      "display_name": "Python 3"
    },
    "language_info": {
      "name": "python"
    }
  },
  "cells": [
    {
      "cell_type": "markdown",
      "metadata": {
        "id": "view-in-github",
        "colab_type": "text"
      },
      "source": [
        "<a href=\"https://colab.research.google.com/github/Yi-Cheng-Wang/MLB_yichengs.ai/blob/main/%E6%A9%9F%E5%99%A8%E5%AD%B8%E7%BF%92_Hello%2C_World!.ipynb\" target=\"_parent\"><img src=\"https://colab.research.google.com/assets/colab-badge.svg\" alt=\"Open In Colab\"/></a>"
      ]
    },
    {
      "cell_type": "markdown",
      "source": [
        "# 小任務\n",
        "在看完全部程式碼後，改一些可以調的參數，想辦法讓最後的評分達到滿分吧！切記不要動不該動的地方～"
      ],
      "metadata": {
        "id": "xRWe5tXFO21p"
      }
    },
    {
      "cell_type": "code",
      "execution_count": null,
      "metadata": {
        "id": "7pUDuO41HMkj"
      },
      "outputs": [],
      "source": [
        "#匯入需要的模組\n",
        "import tensorflow as tf\n",
        "import numpy as np"
      ]
    },
    {
      "cell_type": "code",
      "source": [
        "def prepare_data():\n",
        "  #這裡準備的方程式是 y=100x+50\n",
        "  #有興趣可以隨意更改，可以把資料變多變少\n",
        "  xs = np.array([0, 1, 2, 3, 4],  dtype=float)\n",
        "  ys = np.array([50, 150, 250, 350, 450],  dtype=float)\n",
        "  return xs, ys"
      ],
      "metadata": {
        "id": "h4aFx6sDIljz"
      },
      "execution_count": null,
      "outputs": []
    },
    {
      "cell_type": "code",
      "source": [
        "xs, ys = prepare_data()\n",
        "print('準備資料成功')"
      ],
      "metadata": {
        "id": "uCYbwoYbJrpl"
      },
      "execution_count": null,
      "outputs": []
    },
    {
      "cell_type": "code",
      "source": [
        "def create_model():\n",
        "  #要訓練模型，首先要先有模型\n",
        "  model = tf.keras.Sequential([\n",
        "      #可以多複製幾個tf.keras.layers.Dense\n",
        "      #不要改units、input_shape\n",
        "      tf.keras.layers.Dense(units=1, input_shape=[1])\n",
        "  ])\n",
        "  #這是要告訴電腦，我們要怎麼訓練模型\n",
        "  #先不要改model.compile\n",
        "  model.compile(loss='mean_squared_error',\n",
        "                optimizer=tf.keras.optimizers.Adam(0.2))\n",
        "  return model"
      ],
      "metadata": {
        "id": "hvrgsj0LJ4Uv"
      },
      "execution_count": null,
      "outputs": []
    },
    {
      "cell_type": "code",
      "source": [
        "model = create_model()\n",
        "print('準備模型成功')"
      ],
      "metadata": {
        "id": "ZQbqEa_jMFXq"
      },
      "execution_count": null,
      "outputs": []
    },
    {
      "cell_type": "code",
      "source": [
        "#要把資料給模型(xs,ys)，這個不要動\n",
        "#可以改epoch看看\n",
        "history = model.fit(xs, ys, epochs=4000)"
      ],
      "metadata": {
        "id": "QSUsKiVZL-l3"
      },
      "execution_count": null,
      "outputs": []
    },
    {
      "cell_type": "code",
      "source": [
        "#不要動這個函式\n",
        "def evaluate():\n",
        "  score = 0\n",
        "  if 'model' in globals():\n",
        "    test = model.predict([100])\n",
        "    test_evaluate = abs(test-10050)\n",
        "    if(test_evaluate < 0.1):\n",
        "      score = 5\n",
        "    elif(test_evaluate < 0.5):\n",
        "      score = 4\n",
        "    elif(test_evaluate < 1.0):\n",
        "      score = 3\n",
        "    elif(test_evaluate < 10.0):\n",
        "      score = 2\n",
        "    elif(test_evaluate < 50.0):\n",
        "      score = 1\n",
        "    result = f'評分結果：{score}/5\\n你的答案：{test[0][0]}\\n正確答案：10050.0'\n",
        "  else:\n",
        "    result = f'評分結果：{score}/5\\n你的答案：模型不存在'\n",
        "  return result"
      ],
      "metadata": {
        "id": "mCv6KzotP6WI"
      },
      "execution_count": null,
      "outputs": []
    },
    {
      "cell_type": "code",
      "source": [
        "result = evaluate()\n",
        "print(result)"
      ],
      "metadata": {
        "id": "De504hK-NTnu"
      },
      "execution_count": null,
      "outputs": []
    }
  ]
}